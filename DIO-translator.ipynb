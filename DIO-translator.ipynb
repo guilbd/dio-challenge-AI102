{
  "cells": [
    {
      "cell_type": "code",
      "execution_count": null,
      "metadata": {
        "colab": {
          "base_uri": "https://localhost:8080/"
        },
        "id": "bM-n5TwOKfWc",
        "outputId": "be924ddf-ff40-42e2-f4ed-7ef9edbceb7f"
      },
      "outputs": [
        {
          "name": "stdout",
          "output_type": "stream",
          "text": [
            "Requirement already satisfied: requests in /usr/local/lib/python3.10/dist-packages (2.32.3)\n",
            "Requirement already satisfied: beautifulsoup4 in /usr/local/lib/python3.10/dist-packages (4.12.3)\n",
            "Requirement already satisfied: charset-normalizer<4,>=2 in /usr/local/lib/python3.10/dist-packages (from requests) (3.4.0)\n",
            "Requirement already satisfied: idna<4,>=2.5 in /usr/local/lib/python3.10/dist-packages (from requests) (3.10)\n",
            "Requirement already satisfied: urllib3<3,>=1.21.1 in /usr/local/lib/python3.10/dist-packages (from requests) (2.2.3)\n",
            "Requirement already satisfied: certifi>=2017.4.17 in /usr/local/lib/python3.10/dist-packages (from requests) (2024.8.30)\n",
            "Requirement already satisfied: soupsieve>1.2 in /usr/local/lib/python3.10/dist-packages (from beautifulsoup4) (2.6)\n"
          ]
        }
      ],
      "source": [
        "!pip install requests beautifulsoup4"
      ]
    },
    {
      "cell_type": "code",
      "execution_count": null,
      "metadata": {
        "id": "86affufZK8KX"
      },
      "outputs": [],
      "source": [
        "import requests\n",
        "from bs4 import BeautifulSoup\n",
        "import os\n",
        "\n",
        "def extract_text_from_url(url):\n",
        "    response = requests.get(url)\n",
        "    if response.status_code == 200:\n",
        "        soup = BeautifulSoup(response.text, 'html.parser')\n",
        "        text = soup.get_text()\n",
        "        for script_or_style in soup(['script', 'style']):\n",
        "            script_or_style.decompose()\n",
        "        text = soup.get_text(separator=' ')\n",
        "        #Limpar texto\n",
        "        lines = (line.strip() for line in text.splitlines())\n",
        "        parts = (phrase.strip() for line in lines for phrase in line.split(\"  \"))\n",
        "        text = '\\n'.join(part for part in parts if part)\n",
        "        return text"
      ]
    },
    {
      "cell_type": "code",
      "execution_count": null,
      "metadata": {
        "id": "mSnrcCGnLIA-"
      },
      "outputs": [],
      "source": [
        "text_extracted = extract_text_from_url('https://dev.to/kenakamu/azure-open-ai-in-vnet-3alo')\n",
        "#"
      ]
    },
    {
      "cell_type": "code",
      "execution_count": null,
      "metadata": {
        "id": "jF38XS5pMYT3"
      },
      "outputs": [],
      "source": [
        "subscription_key = \"YOUR_SUBSCRIPTION_KEY\"\n",
        "endpoint = \"YOUR_ENDPOINT\"\n",
        "location = \"YOUR_LOCATION\"\n",
        "target_language = \"pt-br\""
      ]
    },
    {
      "cell_type": "code",
      "execution_count": null,
      "metadata": {
        "id": "b2zozVysRMK1"
      },
      "outputs": [],
      "source": []
    },
    {
      "cell_type": "code",
      "execution_count": null,
      "metadata": {
        "id": "fS2lPAyWNufX"
      },
      "outputs": [],
      "source": [
        "def translator_text(text_extracted, target_language):\n",
        "  path = '/translate'\n",
        "  constructed_url = location + path\n",
        "  headers = {\n",
        "      'Ocp-Apim-Subscription-Key': subscription_key,\n",
        "      'Ocp-Apim-Subscription-Region': endpoint,\n",
        "      'Content-type': 'application/json',\n",
        "      'X-ClientTraceId': str(os.urandom(16))\n",
        "  }\n",
        "\n",
        "  body = [{\n",
        "      'text': text_extracted\n",
        "  }]\n",
        "\n",
        "  params = {\n",
        "      'api-version': '3.0',\n",
        "      'from': 'en',\n",
        "      'to': target_language\n",
        "  }\n",
        "  request = requests.post(constructed_url, params=params, json=body, headers=headers)\n",
        "  response = request.json()\n",
        "  return response[0][\"translations\"][0][\"text\"]"
      ]
    },
    {
      "cell_type": "code",
      "execution_count": null,
      "metadata": {
        "id": "OB44iCT3Q2pd"
      },
      "outputs": [],
      "source": [
        "# Função para traduzir o artigo a partir de uma URL\n",
        "def translate_article(url):\n",
        "\n",
        "    # Extraindo o texto do artigo\n",
        "    try:\n",
        "        texto_original = extract_text_from_url(url)\n",
        "\n",
        "        # Fazendo a tradução\n",
        "        texto_traduzido = translator_text(text_extracted, target_language)\n",
        "\n",
        "        # Retornar em Markdown\n",
        "        texto_markdown = f\"\"\"# Artigo Traduzido\\n\\n{texto_traduzido}\"\"\"\n",
        "        print(texto_markdown)\n",
        "    except requests.exceptions.RequestException as e:\n",
        "        print(f\"Erro ao processar a requisição: {e}\")"
      ]
    },
    {
      "cell_type": "code",
      "execution_count": null,
      "metadata": {
        "colab": {
          "base_uri": "https://localhost:8080/"
        },
        "id": "fO16ZraQSTyd",
        "outputId": "9df81dac-ea0d-404d-fe9d-e8aa2888e41b"
      },
      "outputs": [],
      "source": [
        "url = 'https://dev.to/kenakamu/azure-open-ai-in-vnet-3alo'\n",
        "article = translate_article(url)\n",
        "print(article)"
      ]
    },
    {
      "cell_type": "code",
      "execution_count": null,
      "metadata": {
        "id": "Kcm-aZ_USW-F"
      },
      "outputs": [],
      "source": []
    }
  ],
  "metadata": {
    "colab": {
      "provenance": []
    },
    "kernelspec": {
      "display_name": "Python 3",
      "name": "python3"
    },
    "language_info": {
      "name": "python"
    }
  },
  "nbformat": 4,
  "nbformat_minor": 0
}
